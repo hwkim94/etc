{
 "cells": [
  {
   "cell_type": "markdown",
   "metadata": {},
   "source": [
    "# Naver Cafe Crawler\n",
    "- Need to crawling 'iframe'\n",
    "- iframe을 사용하는 장단점\n",
    "    - 장점 \n",
    "        - 컨텐츠 추가가 쉬움\n",
    "        - 페이지 이동이 필요없으므로 응용프로그램을 다루는 느낌을 제공\n",
    "    - 단점\n",
    "        - 유지보수가 힘듦\n",
    "        - 크롤링을 방해하여 노출이 잘 되지 않음\n",
    "        - 이제는 SPA가 대세이므로 굳이 사용할 필요가 없음"
   ]
  },
  {
   "cell_type": "markdown",
   "metadata": {},
   "source": [
    "### reference\n",
    "- chrome driver : https://sites.google.com/a/chromium.org/chromedriver/downloads\n",
    "- chrome 정보 : chrome://settings/help"
   ]
  },
  {
   "cell_type": "code",
   "execution_count": 5,
   "metadata": {},
   "outputs": [
    {
     "name": "stdout",
     "output_type": "stream",
     "text": [
      "Collecting selenium\n",
      "  Downloading https://files.pythonhosted.org/packages/80/d6/4294f0b4bce4de0abf13e17190289f9d0613b0a44e5dd6a7f5ca98459853/selenium-3.141.0-py2.py3-none-any.whl (904kB)\n",
      "Requirement already satisfied: urllib3 in c:\\anaconda\\lib\\site-packages (from selenium)\n",
      "Installing collected packages: selenium\n",
      "Successfully installed selenium-3.141.0\n"
     ]
    },
    {
     "name": "stderr",
     "output_type": "stream",
     "text": [
      "You are using pip version 9.0.1, however version 19.3.1 is available.\n",
      "You should consider upgrading via the 'python -m pip install --upgrade pip' command.\n"
     ]
    }
   ],
   "source": [
    "!pip install selenium"
   ]
  },
  {
   "cell_type": "code",
   "execution_count": 61,
   "metadata": {},
   "outputs": [],
   "source": [
    "from bs4 import BeautifulSoup as bs\n",
    "from selenium import webdriver\n",
    "import pandas as pd"
   ]
  },
  {
   "cell_type": "code",
   "execution_count": 97,
   "metadata": {},
   "outputs": [],
   "source": [
    "# crawling info\n",
    "# 직접 확인 필요\n",
    "main_url = 'https://cafe.naver.com/number114?iframe_url='\n",
    "\n",
    "cat_lst = [\n",
    "    '중고차 다마스/라보',\n",
    "    '중고차 1톤~1.4톤',\n",
    "    '중고차 2.5톤~3.5톤',\n",
    "    '중고차 4.5톤~8톤 ',\n",
    "    '중고차 9.5톤~25톤',\n",
    "    '중고차 탱크로리',\n",
    "    '중고차 특수차량/기타',\n",
    "]\n",
    "\n",
    "iframe_url_lst = [\n",
    "    '/ArticleList.nhn%3Fsearch.clubid=20319693%26search.menuid=113%26search.boardtype=I%26search.page=', #중고차 다마스/라보\n",
    "    '/ArticleList.nhn%3Fsearch.clubid=20319693%26search.menuid=14%26search.boardtype=I%26search.page=', #중고차 1톤~1.4톤\n",
    "    '/ArticleList.nhn%3Fsearch.clubid=20319693%26search.menuid=116%26search.boardtype=I%26search.page=', #중고차 2.5톤~3.5톤 \n",
    "    '/ArticleList.nhn%3Fsearch.clubid=20319693%26search.menuid=95%26search.boardtype=I%26search.page=', #중고차 4.5톤~8톤 \n",
    "    '/ArticleList.nhn%3Fsearch.clubid=20319693%26search.menuid=96%26search.boardtype=I%26search.page=', #중고차 9.5톤~25톤\n",
    "    '/ArticleList.nhn%3Fsearch.clubid=20319693%26search.menuid=118%26search.boardtype=I%26search.page=', #중고차 탱크로리\n",
    "    '/ArticleList.nhn%3Fsearch.clubid=20319693%26search.menuid=97%26search.boardtype=I%26search.page=', #중고차 특수차량/기타\n",
    "]\n",
    "\n",
    "max_page_lst = [1, 16, 13, 33, 18, 1,5]"
   ]
  },
  {
   "cell_type": "code",
   "execution_count": 95,
   "metadata": {},
   "outputs": [
    {
     "name": "stderr",
     "output_type": "stream",
     "text": [
      "C:\\anaconda\\lib\\site-packages\\ipykernel_launcher.py:8: DeprecationWarning: use options instead of chrome_options\n",
      "  \n"
     ]
    }
   ],
   "source": [
    "# start driver\n",
    "\n",
    "options = webdriver.ChromeOptions()\n",
    "options.add_argument('headless')\n",
    "options.add_argument('window-size=1920x1080')\n",
    "options.add_argument(\"disable-gpu\")\n",
    "\n",
    "driver = webdriver.Chrome('./chromedriver.exe', chrome_options=options)"
   ]
  },
  {
   "cell_type": "code",
   "execution_count": 107,
   "metadata": {
    "scrolled": true
   },
   "outputs": [
    {
     "name": "stdout",
     "output_type": "stream",
     "text": [
      "[중고차 다마스/라보] : https://cafe.naver.com/number114?iframe_url=/ArticleList.nhn%3Fsearch.clubid=20319693%26search.menuid=113%26search.boardtype=I%26search.page=\n",
      "page 1\t: 4 elts\n",
      "\n",
      "\n",
      "\n",
      "[중고차 1톤~1.4톤] : https://cafe.naver.com/number114?iframe_url=/ArticleList.nhn%3Fsearch.clubid=20319693%26search.menuid=14%26search.boardtype=I%26search.page=\n",
      "page 1\t: 20 elts\n",
      "page 2\t: 20 elts\n",
      "page 3\t: 20 elts\n",
      "page 4\t: 20 elts\n",
      "page 5\t: 20 elts\n",
      "page 6\t: 20 elts\n",
      "page 7\t: 20 elts\n",
      "page 8\t: 20 elts\n",
      "page 9\t: 20 elts\n",
      "page 10\t: 20 elts\n",
      "page 11\t: 20 elts\n",
      "page 12\t: 20 elts\n",
      "page 13\t: 20 elts\n",
      "page 14\t: 20 elts\n",
      "page 15\t: 20 elts\n",
      "page 16\t: 13 elts\n",
      "\n",
      "\n",
      "\n",
      "[중고차 2.5톤~3.5톤] : https://cafe.naver.com/number114?iframe_url=/ArticleList.nhn%3Fsearch.clubid=20319693%26search.menuid=116%26search.boardtype=I%26search.page=\n",
      "page 1\t: 20 elts\n",
      "page 2\t: 20 elts\n",
      "page 3\t: 20 elts\n",
      "page 4\t: 20 elts\n",
      "page 5\t: 20 elts\n",
      "page 6\t: 20 elts\n",
      "page 7\t: 20 elts\n",
      "page 8\t: 20 elts\n",
      "page 9\t: 20 elts\n",
      "page 10\t: 20 elts\n",
      "page 11\t: 20 elts\n",
      "page 12\t: 20 elts\n",
      "page 13\t: 14 elts\n",
      "\n",
      "\n",
      "\n",
      "[중고차 4.5톤~8톤 ] : https://cafe.naver.com/number114?iframe_url=/ArticleList.nhn%3Fsearch.clubid=20319693%26search.menuid=95%26search.boardtype=I%26search.page=\n",
      "page 1\t: 20 elts\n",
      "page 2\t: 20 elts\n",
      "page 3\t: 20 elts\n",
      "page 4\t: 20 elts\n",
      "page 5\t: 20 elts\n",
      "page 6\t: 20 elts\n",
      "page 7\t: 20 elts\n",
      "page 8\t: 20 elts\n",
      "page 9\t: 20 elts\n",
      "page 10\t: 20 elts\n",
      "page 11\t: 20 elts\n",
      "page 12\t: 20 elts\n",
      "page 13\t: 20 elts\n",
      "page 14\t: 20 elts\n",
      "page 15\t: 20 elts\n",
      "page 16\t: 20 elts\n",
      "page 17\t: 20 elts\n",
      "page 18\t: 20 elts\n",
      "page 19\t: 20 elts\n",
      "page 20\t: 20 elts\n",
      "page 21\t: 20 elts\n",
      "page 22\t: 20 elts\n",
      "page 23\t: 20 elts\n",
      "page 24\t: 20 elts\n",
      "page 25\t: 20 elts\n",
      "page 26\t: 20 elts\n",
      "page 27\t: 20 elts\n",
      "page 28\t: 20 elts\n",
      "page 29\t: 20 elts\n",
      "page 30\t: 20 elts\n",
      "page 31\t: 20 elts\n",
      "page 32\t: 20 elts\n",
      "page 33\t: 20 elts\n",
      "\n",
      "\n",
      "\n",
      "[중고차 9.5톤~25톤] : https://cafe.naver.com/number114?iframe_url=/ArticleList.nhn%3Fsearch.clubid=20319693%26search.menuid=96%26search.boardtype=I%26search.page=\n",
      "page 1\t: 20 elts\n",
      "page 2\t: 20 elts\n",
      "page 3\t: 20 elts\n",
      "page 4\t: 20 elts\n",
      "page 5\t: 20 elts\n",
      "page 6\t: 20 elts\n",
      "page 7\t: 20 elts\n",
      "page 8\t: 20 elts\n",
      "page 9\t: 20 elts\n",
      "page 10\t: 20 elts\n",
      "page 11\t: 20 elts\n",
      "page 12\t: 20 elts\n",
      "page 13\t: 20 elts\n",
      "page 14\t: 20 elts\n",
      "page 15\t: 20 elts\n",
      "page 16\t: 20 elts\n",
      "page 17\t: 20 elts\n",
      "page 18\t: 11 elts\n",
      "\n",
      "\n",
      "\n",
      "[중고차 탱크로리] : https://cafe.naver.com/number114?iframe_url=/ArticleList.nhn%3Fsearch.clubid=20319693%26search.menuid=118%26search.boardtype=I%26search.page=\n",
      "page 1\t: 14 elts\n",
      "\n",
      "\n",
      "\n",
      "[중고차 특수차량/기타] : https://cafe.naver.com/number114?iframe_url=/ArticleList.nhn%3Fsearch.clubid=20319693%26search.menuid=97%26search.boardtype=I%26search.page=\n",
      "page 1\t: 20 elts\n",
      "page 2\t: 20 elts\n",
      "page 3\t: 20 elts\n",
      "page 4\t: 20 elts\n",
      "page 5\t: 16 elts\n",
      "\n",
      "\n",
      "\n",
      "finished\n"
     ]
    }
   ],
   "source": [
    "result = []\n",
    "\n",
    "for cat, url, max_page in zip(cat_lst, iframe_url_lst, max_page_lst) :\n",
    "    print('['+cat+']', \":\", main_url+url)\n",
    "    \n",
    "    titles = []\n",
    "    for idx in range(1, max_page+1) :\n",
    "        # page로 이동\n",
    "        iframe_page = main_url + url + str(idx)\n",
    "        driver.get(iframe_page)\n",
    "        driver.implicitly_wait(3)\n",
    "        \n",
    "        # iframe으로 전환\n",
    "        iframe = driver.find_element_by_id('cafe_main')\n",
    "        driver.switch_to.frame(iframe)\n",
    "        \n",
    "        # html parsing\n",
    "        html = driver.page_source\n",
    "        soup = bs(html, 'html.parser')\n",
    "        temp = [(cat, idx, iframe_page, tag.text.strip(), main_url+tag['href']) for tag in soup.find_all('a', {'class' : 'tit'})]\n",
    "        titles.extend(temp)\n",
    "    \n",
    "        print(\"page \" + str(idx) + \"\\t: \" + str(len(temp)) + \" elts\")\n",
    "    \n",
    "    # add to result\n",
    "    result.append(titles)\n",
    "    print('\\n\\n')\n",
    "\n",
    "print('finished')"
   ]
  },
  {
   "cell_type": "code",
   "execution_count": 108,
   "metadata": {},
   "outputs": [],
   "source": [
    "# 드라이버 종료\n",
    "# 새로운 드라이버 실행 전에 반드시 종료해야 함\n",
    "\n",
    "driver.close()"
   ]
  },
  {
   "cell_type": "code",
   "execution_count": 109,
   "metadata": {},
   "outputs": [],
   "source": [
    "df_lst = []\n",
    "\n",
    "for cat, titles in zip(cat_lst, result) :\n",
    "    df = pd.DataFrame(data=titles, columns=[\"category\", \"page\", \"page_url\", \"title\", \"contents_url\"])\n",
    "    df_lst.append(df)\n",
    "    \n",
    "result_df=pd.concat(df_lst, axis=0)"
   ]
  },
  {
   "cell_type": "code",
   "execution_count": 120,
   "metadata": {
    "scrolled": false
   },
   "outputs": [
    {
     "data": {
      "text/html": [
       "<div>\n",
       "<style scoped>\n",
       "    .dataframe tbody tr th:only-of-type {\n",
       "        vertical-align: middle;\n",
       "    }\n",
       "\n",
       "    .dataframe tbody tr th {\n",
       "        vertical-align: top;\n",
       "    }\n",
       "\n",
       "    .dataframe thead th {\n",
       "        text-align: right;\n",
       "    }\n",
       "</style>\n",
       "<table border=\"1\" class=\"dataframe\">\n",
       "  <thead>\n",
       "    <tr style=\"text-align: right;\">\n",
       "      <th></th>\n",
       "      <th>category</th>\n",
       "      <th>page</th>\n",
       "      <th>page_url</th>\n",
       "      <th>title</th>\n",
       "      <th>contents_url</th>\n",
       "    </tr>\n",
       "  </thead>\n",
       "  <tbody>\n",
       "    <tr>\n",
       "      <th>0</th>\n",
       "      <td>중고차 다마스/라보</td>\n",
       "      <td>1</td>\n",
       "      <td>https://cafe.naver.com/number114?iframe_url=/A...</td>\n",
       "      <td>그랜드 스타렉스 3밴 럭셔리 A/T 무사고(풀옵션) 팝니다</td>\n",
       "      <td>https://cafe.naver.com/number114?iframe_url=/A...</td>\n",
       "    </tr>\n",
       "    <tr>\n",
       "      <th>1</th>\n",
       "      <td>중고차 다마스/라보</td>\n",
       "      <td>1</td>\n",
       "      <td>https://cafe.naver.com/number114?iframe_url=/A...</td>\n",
       "      <td>개인용달 다마스 2017년 5월 팝니다</td>\n",
       "      <td>https://cafe.naver.com/number114?iframe_url=/A...</td>\n",
       "    </tr>\n",
       "    <tr>\n",
       "      <th>2</th>\n",
       "      <td>중고차 다마스/라보</td>\n",
       "      <td>1</td>\n",
       "      <td>https://cafe.naver.com/number114?iframe_url=/A...</td>\n",
       "      <td>ck미니밴 . 2016년 3월 32000키로주행중</td>\n",
       "      <td>https://cafe.naver.com/number114?iframe_url=/A...</td>\n",
       "    </tr>\n",
       "    <tr>\n",
       "      <th>3</th>\n",
       "      <td>중고차 다마스/라보</td>\n",
       "      <td>1</td>\n",
       "      <td>https://cafe.naver.com/number114?iframe_url=/A...</td>\n",
       "      <td>개인용달(라보16년 10월식)3개월 팝니다</td>\n",
       "      <td>https://cafe.naver.com/number114?iframe_url=/A...</td>\n",
       "    </tr>\n",
       "    <tr>\n",
       "      <th>0</th>\n",
       "      <td>중고차 1톤~1.4톤</td>\n",
       "      <td>1</td>\n",
       "      <td>https://cafe.naver.com/number114?iframe_url=/A...</td>\n",
       "      <td>1톤봉고 2011년 급매400만원</td>\n",
       "      <td>https://cafe.naver.com/number114?iframe_url=/A...</td>\n",
       "    </tr>\n",
       "  </tbody>\n",
       "</table>\n",
       "</div>"
      ],
      "text/plain": [
       "      category  page                                           page_url  \\\n",
       "0   중고차 다마스/라보     1  https://cafe.naver.com/number114?iframe_url=/A...   \n",
       "1   중고차 다마스/라보     1  https://cafe.naver.com/number114?iframe_url=/A...   \n",
       "2   중고차 다마스/라보     1  https://cafe.naver.com/number114?iframe_url=/A...   \n",
       "3   중고차 다마스/라보     1  https://cafe.naver.com/number114?iframe_url=/A...   \n",
       "0  중고차 1톤~1.4톤     1  https://cafe.naver.com/number114?iframe_url=/A...   \n",
       "\n",
       "                              title  \\\n",
       "0  그랜드 스타렉스 3밴 럭셔리 A/T 무사고(풀옵션) 팝니다   \n",
       "1             개인용달 다마스 2017년 5월 팝니다   \n",
       "2       ck미니밴 . 2016년 3월 32000키로주행중   \n",
       "3           개인용달(라보16년 10월식)3개월 팝니다   \n",
       "0                1톤봉고 2011년 급매400만원   \n",
       "\n",
       "                                        contents_url  \n",
       "0  https://cafe.naver.com/number114?iframe_url=/A...  \n",
       "1  https://cafe.naver.com/number114?iframe_url=/A...  \n",
       "2  https://cafe.naver.com/number114?iframe_url=/A...  \n",
       "3  https://cafe.naver.com/number114?iframe_url=/A...  \n",
       "0  https://cafe.naver.com/number114?iframe_url=/A...  "
      ]
     },
     "execution_count": 120,
     "metadata": {},
     "output_type": "execute_result"
    }
   ],
   "source": [
    "result_df.head()"
   ]
  },
  {
   "cell_type": "code",
   "execution_count": 123,
   "metadata": {},
   "outputs": [],
   "source": [
    "result_df.to_excel('result.xlsx')"
   ]
  },
  {
   "cell_type": "code",
   "execution_count": null,
   "metadata": {},
   "outputs": [],
   "source": []
  }
 ],
 "metadata": {
  "kernelspec": {
   "display_name": "Python 3",
   "language": "python",
   "name": "python3"
  },
  "language_info": {
   "codemirror_mode": {
    "name": "ipython",
    "version": 3
   },
   "file_extension": ".py",
   "mimetype": "text/x-python",
   "name": "python",
   "nbconvert_exporter": "python",
   "pygments_lexer": "ipython3",
   "version": "3.6.4"
  }
 },
 "nbformat": 4,
 "nbformat_minor": 2
}
